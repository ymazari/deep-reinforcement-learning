{
 "cells": [
  {
   "cell_type": "code",
   "execution_count": null,
   "id": "9b091c8d",
   "metadata": {},
   "outputs": [],
   "source": [
    "from unityagents import UnityEnvironment\n",
    "from bayes_opt import BayesianOptimization\n",
    "from p1_agent import DoubleDqnAgent\n",
    "from utils import watch, interact, plot\n",
    "from workspace_utils import active_session\n",
    "import torch\n",
    "%matplotlib inline"
   ]
  },
  {
   "cell_type": "code",
   "execution_count": null,
   "id": "bdb92828",
   "metadata": {},
   "outputs": [],
   "source": [
    "env = UnityEnvironment(file_name=\"/home/yacine/udacity/deep-reinforcement-learning/p1_navigation/Banana_Linux/Banana.x86_64\")"
   ]
  },
  {
   "cell_type": "code",
   "execution_count": null,
   "id": "04018be4",
   "metadata": {},
   "outputs": [],
   "source": [
    "# get the default brain\n",
    "brain_name = env.brain_names[0]\n",
    "brain = env.brains[brain_name]"
   ]
  },
  {
   "cell_type": "code",
   "execution_count": null,
   "id": "f83dda04",
   "metadata": {},
   "outputs": [],
   "source": [
    "# reset the environment\n",
    "env_info = env.reset(train_mode=True)[brain_name]\n",
    "\n",
    "# number of agents in the environment\n",
    "print('Number of agents:', len(env_info.agents))\n",
    "\n",
    "# number of actions\n",
    "action_size = brain.vector_action_space_size\n",
    "print('Number of actions:', action_size)\n",
    "\n",
    "# examine the state space \n",
    "state = env_info.vector_observations[0]\n",
    "print('States look like:', state)\n",
    "state_size = len(state)\n",
    "print('States have length:', state_size)"
   ]
  },
  {
   "cell_type": "code",
   "execution_count": null,
   "id": "d82d4a9a",
   "metadata": {},
   "outputs": [],
   "source": [
    "enable_gpu = False # Up to the user\n",
    "gpu_available = torch.cuda.is_available() # Checks the environment\n",
    "train_on_gpu = enable_gpu and gpu_available\n",
    "\n",
    "if train_on_gpu:\n",
    "    device = torch.device('cuda')\n",
    "else:\n",
    "    device = torch.device('cpu')\n",
    "\n",
    "device"
   ]
  },
  {
   "cell_type": "code",
   "execution_count": null,
   "id": "c4634a28",
   "metadata": {},
   "outputs": [],
   "source": [
    "# watch an untrained agent\n",
    "untrained_agent = DoubleDqnAgent(state_size=state_size, action_size=action_size, seed=0, device=device)\n",
    "watch(untrained_agent, env, brain_name)"
   ]
  },
  {
   "cell_type": "code",
   "execution_count": null,
   "id": "51c67a58",
   "metadata": {
    "scrolled": true
   },
   "outputs": [],
   "source": [
    "agent = DoubleDqnAgent(state_size=state_size, action_size=action_size, seed=0, device=device)\n",
    "scores, best_avg_reward = interact(agent, env, brain_name, min_score=100.0)"
   ]
  },
  {
   "cell_type": "code",
   "execution_count": null,
   "id": "61453a15",
   "metadata": {},
   "outputs": [],
   "source": [
    "plot(scores)"
   ]
  },
  {
   "cell_type": "code",
   "execution_count": null,
   "id": "2e790a34",
   "metadata": {},
   "outputs": [],
   "source": [
    "agent.qnetwork_local.load_state_dict(torch.load('top_model.pth'))\n",
    "watch(agent, env, brain_name)"
   ]
  },
  {
   "cell_type": "code",
   "execution_count": null,
   "id": "7154d0fb",
   "metadata": {},
   "outputs": [],
   "source": [
    "# Hyper-parameter tuning, using Bayesian optimization.\n",
    "\n",
    "def best_avg_reward(lr, gamma):\n",
    "    agent = DoubleDqnAgent(state_size=state_size, action_size=action_size, seed=0, device=device, lr=lr, gamma=gamma)\n",
    "    # min_score=100.0. See if we can go go beyond the required min average score of 13.0 for submission.\n",
    "    _, best_avg_reward = interact(agent, env, brain_name, min_score=100.0)\n",
    "    return best_avg_reward\n",
    "\n",
    "pbounds = {'lr': (1e-4, 0.01), 'gamma': (0.8, 1.0)}\n",
    "\n",
    "optimizer = BayesianOptimization(\n",
    "    f=best_avg_reward,\n",
    "    pbounds=pbounds,\n",
    "    random_state=1\n",
    ")\n",
    "\n",
    "optimizer.probe(\n",
    "    params={'lr': 5e-4, 'gamma': 0.99},\n",
    "    lazy=True,\n",
    ")"
   ]
  },
  {
   "cell_type": "code",
   "execution_count": null,
   "id": "93c2cb28",
   "metadata": {
    "scrolled": false
   },
   "outputs": [],
   "source": [
    "# with active_session():\n",
    "optimizer.maximize(init_points=3, n_iter=25)"
   ]
  },
  {
   "cell_type": "code",
   "execution_count": null,
   "id": "b313a40b",
   "metadata": {},
   "outputs": [],
   "source": [
    "print(optimizer.max)"
   ]
  },
  {
   "cell_type": "code",
   "execution_count": null,
   "id": "8e21e169",
   "metadata": {},
   "outputs": [],
   "source": [
    "# Instantiate an agent with best hyper-params\n",
    "best_lr = optimizer.max[\"params\"][\"lr\"]\n",
    "best_gamma = optimizer.max[\"params\"][\"gamma\"]\n",
    "agent = DoubleDqnAgent(state_size=state_size, action_size=action_size, seed=0, device=device, lr=best_lr, gamma=best_gamma)"
   ]
  },
  {
   "cell_type": "code",
   "execution_count": null,
   "id": "8d81d90c",
   "metadata": {},
   "outputs": [],
   "source": [
    "# with active_session():\n",
    "scores, best_avg_reward = interact(agent, env, brain_name)\n",
    "best_avg_reward"
   ]
  },
  {
   "cell_type": "code",
   "execution_count": null,
   "id": "c41167cb",
   "metadata": {},
   "outputs": [],
   "source": [
    "plot(scores)"
   ]
  },
  {
   "cell_type": "code",
   "execution_count": null,
   "id": "230041bc",
   "metadata": {},
   "outputs": [],
   "source": [
    "# Load the trained model.\n",
    "enable_gpu = False # Up to the user\n",
    "gpu_available = torch.cuda.is_available() # Checks the environment\n",
    "train_on_gpu = enable_gpu and gpu_available\n",
    "\n",
    "if train_on_gpu:\n",
    "    device = torch.device('cuda')\n",
    "else:\n",
    "    device = torch.device('cpu')\n",
    "    \n",
    "agent.qnetwork_local.load_state_dict(torch.load('top_model_1.pth'))\n",
    "watch(agent, env, brain_name)"
   ]
  },
  {
   "cell_type": "code",
   "execution_count": null,
   "id": "20d27f40",
   "metadata": {},
   "outputs": [],
   "source": [
    "env.close()"
   ]
  }
 ],
 "metadata": {
  "kernelspec": {
   "display_name": "Python 3",
   "language": "python",
   "name": "python3"
  },
  "language_info": {
   "codemirror_mode": {
    "name": "ipython",
    "version": 3
   },
   "file_extension": ".py",
   "mimetype": "text/x-python",
   "name": "python",
   "nbconvert_exporter": "python",
   "pygments_lexer": "ipython3",
   "version": "3.6.11"
  }
 },
 "nbformat": 4,
 "nbformat_minor": 5
}
