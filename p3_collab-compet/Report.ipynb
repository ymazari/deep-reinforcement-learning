{
 "cells": [
  {
   "cell_type": "markdown",
   "metadata": {},
   "source": [
    "# Collaboration and Competition"
   ]
  },
  {
   "cell_type": "code",
   "execution_count": 1,
   "metadata": {},
   "outputs": [
    {
     "name": "stdout",
     "output_type": "stream",
     "text": [
      "\u001b[31mtensorflow 1.7.1 has requirement numpy>=1.13.3, but you'll have numpy 1.12.1 which is incompatible.\u001b[0m\r\n",
      "\u001b[31mipython 6.5.0 has requirement prompt-toolkit<2.0.0,>=1.0.15, but you'll have prompt-toolkit 3.0.19 which is incompatible.\u001b[0m\r\n"
     ]
    }
   ],
   "source": [
    "!pip -q install ./python\n",
    "!pip -q install tqdm"
   ]
  },
  {
   "cell_type": "code",
   "execution_count": 2,
   "metadata": {},
   "outputs": [],
   "source": [
    "from unityagents import UnityEnvironment\n",
    "import numpy as np\n",
    "from ddpg_agent import DDPGAgent\n",
    "from workspace_utils import active_session\n",
    "import matplotlib.pyplot as plt\n",
    "%matplotlib inline"
   ]
  },
  {
   "cell_type": "code",
   "execution_count": 3,
   "metadata": {},
   "outputs": [
    {
     "name": "stderr",
     "output_type": "stream",
     "text": [
      "INFO:unityagents:\n",
      "'Academy' started successfully!\n",
      "Unity Academy name: Academy\n",
      "        Number of Brains: 1\n",
      "        Number of External Brains : 1\n",
      "        Lesson number : 0\n",
      "        Reset Parameters :\n",
      "\t\t\n",
      "Unity brain name: TennisBrain\n",
      "        Number of Visual Observations (per agent): 0\n",
      "        Vector Observation space type: continuous\n",
      "        Vector Observation space size (per agent): 8\n",
      "        Number of stacked Vector Observation: 3\n",
      "        Vector Action space type: continuous\n",
      "        Vector Action space size (per agent): 2\n",
      "        Vector Action descriptions: , \n"
     ]
    }
   ],
   "source": [
    "# Loads the environment\n",
    "env = UnityEnvironment(file_name=\"/data/Tennis_Linux_NoVis/Tennis\")"
   ]
  },
  {
   "cell_type": "code",
   "execution_count": 4,
   "metadata": {},
   "outputs": [],
   "source": [
    "# get the default brain\n",
    "brain_name = env.brain_names[0]\n",
    "brain = env.brains[brain_name]"
   ]
  },
  {
   "cell_type": "code",
   "execution_count": 5,
   "metadata": {},
   "outputs": [
    {
     "name": "stdout",
     "output_type": "stream",
     "text": [
      "Number of agents: 2\n",
      "Size of each action: 2\n",
      "There are 2 agents. Each observes a state with length: 24\n",
      "The state for the first agent looks like: [ 0.          0.          0.          0.          0.          0.          0.\n",
      "  0.          0.          0.          0.          0.          0.          0.\n",
      "  0.          0.         -6.65278625 -1.5        -0.          0.\n",
      "  6.83172083  6.         -0.          0.        ]\n"
     ]
    }
   ],
   "source": [
    "# reset the environment\n",
    "env_info = env.reset(train_mode=True)[brain_name]\n",
    "\n",
    "# number of agents\n",
    "num_agents = len(env_info.agents)\n",
    "print('Number of agents:', num_agents)\n",
    "\n",
    "# size of each action\n",
    "action_size = brain.vector_action_space_size\n",
    "print('Size of each action:', action_size)\n",
    "\n",
    "# examine the state space \n",
    "states = env_info.vector_observations\n",
    "state_size = states.shape[1]\n",
    "print('There are {} agents. Each observes a state with length: {}'.format(states.shape[0], state_size))\n",
    "print('The state for the first agent looks like:', states[0])"
   ]
  },
  {
   "cell_type": "code",
   "execution_count": 6,
   "metadata": {},
   "outputs": [],
   "source": [
    "# Instantiate an agent\n",
    "agent = DDPGAgent(state_size=state_size, action_size=action_size, env=env, seed=1)"
   ]
  },
  {
   "cell_type": "code",
   "execution_count": 7,
   "metadata": {
    "scrolled": true
   },
   "outputs": [
    {
     "name": "stderr",
     "output_type": "stream",
     "text": [
      "  0%|          | 3/10000 [00:01<2:52:35,  1.04s/it]"
     ]
    },
    {
     "name": "stdout",
     "output_type": "stream",
     "text": [
      "Episode 1\tMax Score: 0.0....checkpoint....\n"
     ]
    },
    {
     "name": "stderr",
     "output_type": "stream",
     "text": [
      "  0%|          | 45/10000 [00:09<46:40,  3.56it/s] "
     ]
    },
    {
     "name": "stdout",
     "output_type": "stream",
     "text": [
      "Episode 45\tMax Score: 0.09000000171363354....checkpoint....\n"
     ]
    },
    {
     "name": "stderr",
     "output_type": "stream",
     "text": [
      "  1%|          | 56/10000 [00:12<50:33,  3.28it/s]"
     ]
    },
    {
     "name": "stdout",
     "output_type": "stream",
     "text": [
      "Episode 56\tMax Score: 0.10000000149011612....checkpoint....\n"
     ]
    },
    {
     "name": "stderr",
     "output_type": "stream",
     "text": [
      "  1%|          | 100/10000 [00:25<49:25,  3.34it/s] "
     ]
    },
    {
     "name": "stdout",
     "output_type": "stream",
     "text": [
      "Episode 100\tEpisode Score: 0.0\tMoving Avgs Score: 0.013300000224262476\n"
     ]
    },
    {
     "name": "stderr",
     "output_type": "stream",
     "text": [
      "  2%|▏         | 200/10000 [00:55<43:35,  3.75it/s]  "
     ]
    },
    {
     "name": "stdout",
     "output_type": "stream",
     "text": [
      "Episode 200\tEpisode Score: 0.0\tMoving Avgs Score: 0.020400000363588335\n"
     ]
    },
    {
     "name": "stderr",
     "output_type": "stream",
     "text": [
      "  3%|▎         | 300/10000 [01:19<41:21,  3.91it/s]"
     ]
    },
    {
     "name": "stdout",
     "output_type": "stream",
     "text": [
      "Episode 300\tEpisode Score: 0.0\tMoving Avgs Score: 0.0020000000298023225\n"
     ]
    },
    {
     "name": "stderr",
     "output_type": "stream",
     "text": [
      "  4%|▍         | 400/10000 [01:42<37:03,  4.32it/s]  "
     ]
    },
    {
     "name": "stdout",
     "output_type": "stream",
     "text": [
      "Episode 400\tEpisode Score: 0.0\tMoving Avgs Score: 0.0010000000149011613\n"
     ]
    },
    {
     "name": "stderr",
     "output_type": "stream",
     "text": [
      "  5%|▌         | 500/10000 [02:05<36:16,  4.36it/s]"
     ]
    },
    {
     "name": "stdout",
     "output_type": "stream",
     "text": [
      "Episode 500\tEpisode Score: 0.0\tMoving Avgs Score: 0.0\n"
     ]
    },
    {
     "name": "stderr",
     "output_type": "stream",
     "text": [
      "  6%|▌         | 600/10000 [02:28<36:25,  4.30it/s]"
     ]
    },
    {
     "name": "stdout",
     "output_type": "stream",
     "text": [
      "Episode 600\tEpisode Score: 0.0\tMoving Avgs Score: 0.0\n"
     ]
    },
    {
     "name": "stderr",
     "output_type": "stream",
     "text": [
      "  7%|▋         | 700/10000 [02:53<48:05,  3.22it/s]"
     ]
    },
    {
     "name": "stdout",
     "output_type": "stream",
     "text": [
      "Episode 700\tEpisode Score: 0.0\tMoving Avgs Score: 0.004800000078976154\n"
     ]
    },
    {
     "name": "stderr",
     "output_type": "stream",
     "text": [
      "  8%|▊         | 800/10000 [03:31<1:23:31,  1.84it/s]"
     ]
    },
    {
     "name": "stdout",
     "output_type": "stream",
     "text": [
      "Episode 800\tEpisode Score: 0.10000000149011612\tMoving Avgs Score: 0.049000000804662706\n"
     ]
    },
    {
     "name": "stderr",
     "output_type": "stream",
     "text": [
      "  8%|▊         | 804/10000 [03:33<1:48:15,  1.42it/s]"
     ]
    },
    {
     "name": "stdout",
     "output_type": "stream",
     "text": [
      "Episode 804\tMax Score: 0.20000000298023224....checkpoint....\n"
     ]
    },
    {
     "name": "stderr",
     "output_type": "stream",
     "text": [
      "  8%|▊         | 848/10000 [03:58<3:14:59,  1.28s/it]"
     ]
    },
    {
     "name": "stdout",
     "output_type": "stream",
     "text": [
      "Episode 848\tMax Score: 0.4000000059604645....checkpoint....\n"
     ]
    },
    {
     "name": "stderr",
     "output_type": "stream",
     "text": [
      "  9%|▊         | 873/10000 [04:15<2:58:04,  1.17s/it]"
     ]
    },
    {
     "name": "stdout",
     "output_type": "stream",
     "text": [
      "Episode 873\tMax Score: 0.5000000074505806....checkpoint....\n"
     ]
    },
    {
     "name": "stderr",
     "output_type": "stream",
     "text": [
      "  9%|▉         | 900/10000 [04:26<1:00:17,  2.52it/s]"
     ]
    },
    {
     "name": "stdout",
     "output_type": "stream",
     "text": [
      "Episode 900\tEpisode Score: 0.09000000171363354\tMoving Avgs Score: 0.07830000123009086\n"
     ]
    },
    {
     "name": "stderr",
     "output_type": "stream",
     "text": [
      " 10%|█         | 1000/10000 [05:09<1:26:28,  1.73it/s]"
     ]
    },
    {
     "name": "stdout",
     "output_type": "stream",
     "text": [
      "Episode 1000\tEpisode Score: 0.10000000149011612\tMoving Avgs Score: 0.05180000081658363\n"
     ]
    },
    {
     "name": "stderr",
     "output_type": "stream",
     "text": [
      " 11%|█         | 1100/10000 [06:02<1:14:51,  1.98it/s]"
     ]
    },
    {
     "name": "stdout",
     "output_type": "stream",
     "text": [
      "Episode 1100\tEpisode Score: 0.09000000171363354\tMoving Avgs Score: 0.08710000144317746\n"
     ]
    },
    {
     "name": "stderr",
     "output_type": "stream",
     "text": [
      " 12%|█▏        | 1200/10000 [06:41<1:19:57,  1.83it/s]"
     ]
    },
    {
     "name": "stdout",
     "output_type": "stream",
     "text": [
      "Episode 1200\tEpisode Score: 0.09000000171363354\tMoving Avgs Score: 0.047000000774860384\n"
     ]
    },
    {
     "name": "stderr",
     "output_type": "stream",
     "text": [
      " 13%|█▎        | 1300/10000 [07:39<1:26:30,  1.68it/s]"
     ]
    },
    {
     "name": "stdout",
     "output_type": "stream",
     "text": [
      "Episode 1300\tEpisode Score: 0.10000000149011612\tMoving Avgs Score: 0.10080000162124633\n"
     ]
    },
    {
     "name": "stderr",
     "output_type": "stream",
     "text": [
      " 14%|█▍        | 1400/10000 [08:49<1:26:07,  1.66it/s]"
     ]
    },
    {
     "name": "stdout",
     "output_type": "stream",
     "text": [
      "Episode 1400\tEpisode Score: 0.10000000149011612\tMoving Avgs Score: 0.11820000182837248\n"
     ]
    },
    {
     "name": "stderr",
     "output_type": "stream",
     "text": [
      " 14%|█▍        | 1425/10000 [09:10<4:07:14,  1.73s/it]"
     ]
    },
    {
     "name": "stdout",
     "output_type": "stream",
     "text": [
      "Episode 1425\tMax Score: 0.6000000089406967....checkpoint....\n"
     ]
    },
    {
     "name": "stderr",
     "output_type": "stream",
     "text": [
      " 15%|█▍        | 1488/10000 [10:01<5:43:56,  2.42s/it]"
     ]
    },
    {
     "name": "stdout",
     "output_type": "stream",
     "text": [
      "Episode 1488\tMax Score: 0.800000011920929....checkpoint....\n"
     ]
    },
    {
     "name": "stderr",
     "output_type": "stream",
     "text": [
      " 15%|█▌        | 1500/10000 [10:14<1:45:47,  1.34it/s]"
     ]
    },
    {
     "name": "stdout",
     "output_type": "stream",
     "text": [
      "Episode 1500\tEpisode Score: 0.09000000171363354\tMoving Avgs Score: 0.1309000020287931\n"
     ]
    },
    {
     "name": "stderr",
     "output_type": "stream",
     "text": [
      " 15%|█▌        | 1518/10000 [10:34<5:57:05,  2.53s/it]"
     ]
    },
    {
     "name": "stdout",
     "output_type": "stream",
     "text": [
      "Episode 1518\tMax Score: 1.1000000163912773....checkpoint....\n"
     ]
    },
    {
     "name": "stderr",
     "output_type": "stream",
     "text": [
      " 16%|█▌        | 1554/10000 [11:46<9:56:27,  4.24s/it]"
     ]
    },
    {
     "name": "stdout",
     "output_type": "stream",
     "text": [
      "Episode 1554\tMax Score: 1.2000000178813934....checkpoint....\n"
     ]
    },
    {
     "name": "stderr",
     "output_type": "stream",
     "text": [
      " 16%|█▌        | 1556/10000 [12:02<15:42:14,  6.70s/it]"
     ]
    },
    {
     "name": "stdout",
     "output_type": "stream",
     "text": [
      "Episode 1556\tMax Score: 2.0000000298023224....checkpoint....\n"
     ]
    },
    {
     "name": "stderr",
     "output_type": "stream",
     "text": [
      " 16%|█▌        | 1559/10000 [12:27<19:32:49,  8.34s/it]"
     ]
    },
    {
     "name": "stdout",
     "output_type": "stream",
     "text": [
      "Episode 1559\tMax Score: 2.3000000342726707....checkpoint....\n"
     ]
    },
    {
     "name": "stderr",
     "output_type": "stream",
     "text": [
      " 16%|█▌        | 1591/10000 [14:10<13:02:36,  5.58s/it]"
     ]
    },
    {
     "name": "stdout",
     "output_type": "stream",
     "text": [
      "Episode 1591\tMax Score: 2.500000037252903....checkpoint....\n"
     ]
    },
    {
     "name": "stderr",
     "output_type": "stream",
     "text": [
      " 16%|█▌        | 1592/10000 [14:27<20:51:56,  8.93s/it]"
     ]
    },
    {
     "name": "stdout",
     "output_type": "stream",
     "text": [
      "Episode 1592\tMax Score: 2.600000038743019....checkpoint....\n"
     ]
    },
    {
     "name": "stderr",
     "output_type": "stream",
     "text": [
      " 16%|█▌        | 1600/10000 [15:30<23:11:14,  9.94s/it]"
     ]
    },
    {
     "name": "stdout",
     "output_type": "stream",
     "text": [
      "Episode 1600\tEpisode Score: 2.600000038743019\tMoving Avgs Score: 0.48910000732168557\n"
     ]
    },
    {
     "name": "stderr",
     "output_type": "stream",
     "text": [
      " 16%|█▌        | 1602/10000 [15:38<15:55:51,  6.83s/it]"
     ]
    },
    {
     "name": "stdout",
     "output_type": "stream",
     "text": [
      "\n",
      " Solved in Episode 1603\tEpisode Score: 0.7000000104308128\tMoving Average Score: 0.5011000075004994\n"
     ]
    }
   ],
   "source": [
    "# Train it\n",
    "with active_session():\n",
    "    scores, average_scores = agent.train()"
   ]
  },
  {
   "cell_type": "code",
   "execution_count": 8,
   "metadata": {},
   "outputs": [
    {
     "data": {
      "image/png": "[encoded data removed]",
      "text/plain": [
       "<matplotlib.figure.Figure at 0x7f546377cc88>"
      ]
     },
     "metadata": {
      "needs_background": "light"
     },
     "output_type": "display_data"
    }
   ],
   "source": [
    "# Plot the scores\n",
    "fig = plt.figure()\n",
    "ax = fig.add_subplot(111)\n",
    "plt.plot(np.arange(1, len(scores)+1), scores, label=\"Episode Scores\")\n",
    "plt.plot(np.arange(1, len(average_scores)+1), average_scores, label=\"Average Scores (over 100 episodes)\")\n",
    "plt.ylabel('Score')\n",
    "plt.xlabel('Episode #')\n",
    "plt.legend()\n",
    "plt.show()"
   ]
  },
  {
   "cell_type": "code",
   "execution_count": 9,
   "metadata": {},
   "outputs": [
    {
     "name": "stdout",
     "output_type": "stream",
     "text": [
      "Actor(\n",
      "  (fc1): Linear(in_features=24, out_features=400, bias=True)\n",
      "  (bn1): BatchNorm1d(400, eps=1e-05, momentum=0.1, affine=True, track_running_stats=True)\n",
      "  (fc2): Linear(in_features=400, out_features=300, bias=True)\n",
      "  (bn2): BatchNorm1d(300, eps=1e-05, momentum=0.1, affine=True, track_running_stats=True)\n",
      "  (fc3): Linear(in_features=300, out_features=2, bias=True)\n",
      ")\n"
     ]
    }
   ],
   "source": [
    "# Show the actor's architecture\n",
    "print(agent.actor_local)"
   ]
  },
  {
   "cell_type": "code",
   "execution_count": 10,
   "metadata": {},
   "outputs": [
    {
     "name": "stdout",
     "output_type": "stream",
     "text": [
      "Critic(\n",
      "  (fc1): Linear(in_features=24, out_features=400, bias=True)\n",
      "  (bn1): BatchNorm1d(400, eps=1e-05, momentum=0.1, affine=True, track_running_stats=True)\n",
      "  (fc2): Linear(in_features=402, out_features=300, bias=True)\n",
      "  (bn2): BatchNorm1d(300, eps=1e-05, momentum=0.1, affine=True, track_running_stats=True)\n",
      "  (fc3): Linear(in_features=300, out_features=1, bias=True)\n",
      ")\n"
     ]
    }
   ],
   "source": [
    "# Show the critic's architecture\n",
    "print(agent.critic_local)"
   ]
  },
  {
   "cell_type": "code",
   "execution_count": 11,
   "metadata": {},
   "outputs": [],
   "source": [
    "env.close()"
   ]
  },
  {
   "cell_type": "markdown",
   "metadata": {},
   "source": [
    "# Project Report: Collaboration and Competition\n",
    "For more details about how to execute the code, look at “Instructions” and “Files” sections in README.md.\n",
    "\n",
    "## Learning Algorithm\n",
    "In this project, I used the Deep Deterministic Policy Gradients (DDPG) algorithm with 2 agents (same ad for project 2).\n",
    "The code itself is based on the DDPG with OpenAI Gym's BipedalWalker environment, from Udacity’s repo (https://github.com/udacity/deep-reinforcement-learning/tree/master/ddpg-bipedal).  \n",
    "The agent consists of an Actor network, which takes the state as input and returns a deterministic action; and a Critic network which tries to approximate the value function and returns the action-value for the action taken by the actor.\n",
    "\n",
    "The two agants share the same replay buffer, and they share the same actor and crtitic networks, making them work in collaboration mode: Any learning from one of the agents is directly reflected to the other.\n",
    "\n",
    "Furthermore, for each of the actor and critic there are actually two models, a main network and a target network. The target networks are used for calculating the error and are updated less often to avoid oscillations and make the learning more stable.\n",
    "\n",
    "The agent also makes use of experience replay (re-used from the code in a previous assignment), in order to mitigate issues with correlations between successive inputs.\n",
    "\n",
    "While the actor itself returns a deterministic action, some randomness is added to the output to encourage exploration. This random additive noise is generated through an Ornstein-Uhlenbeck process (also re-used from the code from Udacity repo), and is controlled via a decaying hyper-parameter epsilon, so as to encourage exploration initially and then rely more and more on exploitation as the models gets more training.\n",
    "\n",
    "As suggested in the “Benchmark Implementation” section of the course, I changed the code to update the local/main networks 10 times after every 20 timesteps as well as using gradient clipping. Also, I used a “soft-update” for updating the target networks.\n",
    "\n",
    "The training consist in running several episodes:  \n",
    "1) Starting from an initial state  \n",
    "2) Make the agent take an action (with additive noise for exploration)  \n",
    "3) Get the reward and next state for the taken action and add them to the replay buffer  \n",
    "4) After every 20 timesteps, for 10 times:  \n",
    "  - sample data from the replay buffer  \n",
    "  - perform a weight update for the local networks based on the expected and target action-values\n",
    "  - Perform a “soft-update” is used to update the target network parameter every pre-defined number of steps.\n",
    "  - When the requirement average score over 100 episodes at least 30 is satisfied, training is stopped and model weights are saved.\n",
    "\n",
    "## Model Architecture\n",
    "The actor is a fully-connected network with 3 hidden layers and relu as an activation function, and batch normalization to normalize the input states and intermediate inputs to each layer. The normalization improves the learning because the entries in the 33-dimensional state vector have a different meaning and scale. \n",
    "The output is a 2-dimensional vector corresponding to the actions space size, with each action clipped to be in the range [-1, 1]\n",
    "\n",
    "The critic is a fully-connected network with 3 hidden layers and relu as an activation function, and batch normalization to normalize the input states and intermediate inputs to each layer.\n",
    "In addition to the state, the critic network also takes the action vector as an input. The resulting output is a scalar corresponding to the state-action value.  \n",
    "See the above cells for the details.\n",
    "\n",
    "## Hyperparameters\n",
    "The following were used:     \n",
    "LR_ACTOR = 1e-3  # learning rate of Actor  \n",
    "LR_CRITIC = 1e-3  # learning rate of Critic  \n",
    "WEIGHT_DECAY = 0.  # L2 weight decay  \n",
    "GAMMA = 0.99  # discount factor  \n",
    "TAU = 1e-3  # soft update parameter  \n",
    "BATCH_SIZE = 512  # batch size to sample from replay buffer  \n",
    "BUFFER_SIZE = int(1e5)  # max size (capacity) of the replay buffer  \n",
    "LEARN_INTERVAL = 20  \n",
    "LEARN_TIMES = 10    \n",
    "\n",
    "As well as:  \n",
    "fc1_units = 400  \n",
    "fc2_units=300 # Size of hidden units for both actor and critic  \n",
    "\n",
    "Furthermore, I used  \n",
    "Adam optimizer as the optimizer  \n",
    "Mean squared error (torch.nn.functional.mse_loss) as a loss function for the critic.\n",
    "\n",
    "The choice of the initial values for the hyperparameters was based on a previous assignment, and then verified that these values lead to good empirical results\n",
    "\n",
    "## Plot of Rewards\n",
    "We see that after 1603 episods, the agent reaches an average score of 0.5, the desired minimum, and the models’ weights are saved.\n",
    "See the figure above for the plot of the rewards.\n",
    "\n",
    "## Ideas for Future Work\n",
    "- I was actually very surprised to get the 2 agents to learn so quickly and just by re-using the DDPG approach without actual parallelizarion. I watched the agents play the game, and they did play very well, but were not \"competing\" against each other, but rather \"collaborating\" to keep the ball from falling as long as possible. This confirms what is described in the above \"Learning Algorithm\" section.\n",
    "    - So one possible future work is to try with the MADDPG, with each agent having their own actor and possibly critic network, and then watch them \"compete\" against each other.\n",
    "- Another possibility for improvement is to further tune the hyperparameters. For this project I just selected them from previous Udacity assignments and got acceptable results. Doing the tuning may lead the model to fall in a better local minimum resulting in higher rewards, or use a different learning rate which could speed up the learning.\n",
    "- It’s worth trying the other suggested algorithm in the class, AlphaZero"
   ]
  }
 ],
 "metadata": {
  "kernelspec": {
   "display_name": "Python 3",
   "language": "python",
   "name": "python3"
  },
  "language_info": {
   "codemirror_mode": {
    "name": "ipython",
    "version": 3
   },
   "file_extension": ".py",
   "mimetype": "text/x-python",
   "name": "python",
   "nbconvert_exporter": "python",
   "pygments_lexer": "ipython3",
   "version": "3.6.13"
  }
 },
 "nbformat": 4,
 "nbformat_minor": 2
}
